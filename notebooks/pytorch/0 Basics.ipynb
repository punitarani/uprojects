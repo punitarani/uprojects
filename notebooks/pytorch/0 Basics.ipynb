{
 "cells": [
  {
   "cell_type": "markdown",
   "metadata": {},
   "source": [
    "# PyTorch Basics"
   ]
  },
  {
   "cell_type": "code",
   "execution_count": 1,
   "metadata": {},
   "outputs": [],
   "source": [
    "import torch\n",
    "from torch import nn\n",
    "from torch.utils.data import DataLoader\n",
    "from torchvision import datasets\n",
    "from torchvision.transforms import ToTensor"
   ]
  },
  {
   "cell_type": "markdown",
   "metadata": {},
   "source": [
    "## Download the dataset\n",
    "\n",
    "Load the `MNIST` dataset from TorchVision.\n",
    "- This dataset contains 60,000 training images and 10,000 test images of handwritten digits.\n",
    "- Each image is 28 pixels in height and 28 pixels in width, for a total of 784 pixels in total.\n",
    "- Each pixel has a single pixel-value associated with it, indicating the lightness or darkness of that pixel, with higher numbers meaning darker.\n",
    "- This pixel-value is an integer between 0 and 255, inclusive.\n",
    "\n",
    "`datasets.MNIST()` accepts the following parameters:\n",
    "- `root` - the path where the train/test data is stored\n",
    "- `train` - a boolean value that indicates whether the dataset should be the training dataset or the test dataset\n",
    "- `download` - a boolean value that indicates whether the dataset should be downloaded if it's not available at `root`\n",
    "- `transform` - an optional transform function that takes in an PIL image and returns a transformed version."
   ]
  },
  {
   "cell_type": "code",
   "execution_count": 2,
   "metadata": {},
   "outputs": [],
   "source": [
    "training_data = datasets.MNIST(\n",
    "    root=\"data\",\n",
    "    train=True,\n",
    "    download=True,\n",
    "    transform=ToTensor(),\n",
    ")\n",
    "\n",
    "test_data = datasets.MNIST(\n",
    "    root=\"data\",\n",
    "    train=False,\n",
    "    download=True,\n",
    "    transform=ToTensor(),\n",
    ")"
   ]
  },
  {
   "cell_type": "markdown",
   "metadata": {},
   "source": [
    "`torch.utils.data.Dataset` is an abstract class representing a dataset. It stores the samples and their corresponding labels.\n",
    "`torch.utils.data.DataLoader` wraps an iterable around the `Dataset`.\n",
    "\n",
    "`DataLoader` supports both map-style and iterable-style datasets with single- or multi-process loading, customizing loading order and optional automatic batching (collation) and memory pinning."
   ]
  },
  {
   "cell_type": "code",
   "execution_count": 3,
   "metadata": {},
   "outputs": [
    {
     "name": "stdout",
     "output_type": "stream",
     "text": [
      "Shape of X [N, C, H, W]:  torch.Size([64, 1, 28, 28])\n",
      "Shape of y:  torch.Size([64]) torch.int64\n"
     ]
    }
   ],
   "source": [
    "batch_size = 64\n",
    "\n",
    "train_dataloader = DataLoader(training_data, batch_size=batch_size)\n",
    "test_dataloader = DataLoader(test_data, batch_size=batch_size)\n",
    "\n",
    "for X, y in test_dataloader:\n",
    "    print(\"Shape of X [N, C, H, W]: \", X.shape)\n",
    "    print(\"Shape of y: \", y.shape, y.dtype)\n",
    "    break"
   ]
  },
  {
   "cell_type": "markdown",
   "metadata": {},
   "source": [
    "## Create a Model\n",
    "\n",
    "### `device`\n",
    "\n",
    "`torch.device` is an object representing the device on which a `torch.Tensor` is or will be allocated.\n",
    "`torch.device` objects are used as arguments to many methods in the `torch` package.\n",
    "`torch.device` objects are typically constructed using `torch.device(\"cuda\")` or `torch.device(\"cpu\")`."
   ]
  },
  {
   "cell_type": "code",
   "execution_count": 4,
   "metadata": {},
   "outputs": [
    {
     "name": "stdout",
     "output_type": "stream",
     "text": [
      "Using cuda device\n"
     ]
    }
   ],
   "source": [
    "device = \"cuda\" if torch.cuda.is_available() else \"cpu\"\n",
    "print(\"Using {} device\".format(device))"
   ]
  },
  {
   "cell_type": "markdown",
   "metadata": {},
   "source": [
    "### `nn.Module`\n",
    "\n",
    "- `nn.Module` is the base class for all neural network modules.\n",
    "- The layers of the model are defined in the `__init__` function and the forward pass of the model is defined in the `forward` function.\n",
    "- `nn.Module` keeps track of the layers and parameters of the model.\n",
    "- The `device` argument is used to move the model to the GPU if available. The default value is `cpu`.\n",
    "\n",
    "#### Common Layers\n",
    "\n",
    "- `nn.Conv2d`: Convolutional layer for 2D inputs.\n",
    "- `nn.CrossEntropyLoss`: Computes the cross-entropy loss between the input and target.\n",
    "- `nn.Dropout`: Randomly zeroes some of the elements of the input tensor with a given probability during training.\n",
    "- `nn.Embedding`: Embedding layer that maps discrete inputs to continuous vectors.\n",
    "- `nn.Flatten`: Flattens a contiguous range of dims into a 1D tensor.\n",
    "- `nn.Linear`: Linear layer that applies a linear transformation to the input tensor.\n",
    "- `nn.LSTM`: Long Short-Term Memory recurrent neural network layer.\n",
    "- `nn.MaxPool2d`: Max pooling layer for 2D inputs.\n",
    "- `nn.ReLU`: Rectified Linear Unit activation function.\n",
    "- `nn.Softmax`: Softmax activation function that converts the input tensor to a probability distribution.\n",
    "\n",
    "> Read more about the supported layers [here](https://pytorch.org/docs/stable/nn.html).\n"
   ]
  },
  {
   "cell_type": "code",
   "execution_count": 5,
   "metadata": {},
   "outputs": [],
   "source": [
    "class NeuralNetwork(nn.Module):\n",
    "    def __init__(self):\n",
    "        super().__init__()\n",
    "        self.flatten = nn.Flatten()\n",
    "        self.linear_relu_stack = nn.Sequential(\n",
    "            nn.Linear(28*28, 512),\n",
    "            nn.ReLU(),\n",
    "            nn.Linear(512, 512),\n",
    "            nn.ReLU(),\n",
    "            nn.Linear(512, 10),\n",
    "            nn.ReLU()\n",
    "        )\n",
    "\n",
    "    def forward(self, x):\n",
    "        x = self.flatten(x)\n",
    "        logits = self.linear_relu_stack(x)\n",
    "        return logits"
   ]
  },
  {
   "cell_type": "code",
   "execution_count": 6,
   "metadata": {},
   "outputs": [
    {
     "name": "stdout",
     "output_type": "stream",
     "text": [
      "NeuralNetwork(\n",
      "  (flatten): Flatten(start_dim=1, end_dim=-1)\n",
      "  (linear_relu_stack): Sequential(\n",
      "    (0): Linear(in_features=784, out_features=512, bias=True)\n",
      "    (1): ReLU()\n",
      "    (2): Linear(in_features=512, out_features=512, bias=True)\n",
      "    (3): ReLU()\n",
      "    (4): Linear(in_features=512, out_features=10, bias=True)\n",
      "    (5): ReLU()\n",
      "  )\n",
      ")\n"
     ]
    }
   ],
   "source": [
    "# Create a model instance and move it to the GPU if available\n",
    "model = NeuralNetwork().to(device)\n",
    "print(model)"
   ]
  },
  {
   "cell_type": "markdown",
   "metadata": {},
   "source": [
    "## Training the Model\n",
    "\n",
    "To train a model, we need to define the following:\n",
    "\n",
    "- **Loss function** - measures how well the output of a model for a given input matches the target output. The goal of training is to minimize this difference.\n",
    "- **Optimizer** - defines how the model parameters are updated based on the loss function. The simplest optimizer is stochastic gradient descent (SGD)."
   ]
  },
  {
   "cell_type": "code",
   "execution_count": 7,
   "metadata": {},
   "outputs": [],
   "source": [
    "loss_fn = nn.CrossEntropyLoss()\n",
    "optimizer = torch.optim.SGD(model.parameters(), lr=1e-3)"
   ]
  },
  {
   "cell_type": "code",
   "execution_count": 8,
   "metadata": {},
   "outputs": [],
   "source": [
    "def train(dataloader, model, loss_fn, optimizer):\n",
    "    size = len(dataloader.dataset)\n",
    "\n",
    "    model.train()\n",
    "\n",
    "    for batch, (X, y) in enumerate(dataloader):\n",
    "        X, y = X.to(device), y.to(device)\n",
    "\n",
    "        # Compute prediction error\n",
    "        pred = model(X)\n",
    "        loss = loss_fn(pred, y)\n",
    "\n",
    "        # Backpropagation\n",
    "        optimizer.zero_grad()\n",
    "        loss.backward()\n",
    "        optimizer.step()\n",
    "\n",
    "        # Print loss every 100 batches\n",
    "        if batch % 100 == 0:\n",
    "            loss, current = loss.item(), batch * len(X)\n",
    "            print(f\"loss: {loss:>7f}  [{current:>5d}/{size:>5d}]\")"
   ]
  },
  {
   "cell_type": "markdown",
   "metadata": {},
   "source": [
    "## Test the model\n",
    "\n",
    "We will test the model's accuracy on the test dataset to ensure it is learning.\n",
    "We will check the accuracy by comparing the model's predictions to the ground-truth labels of the test dataset."
   ]
  },
  {
   "cell_type": "code",
   "execution_count": 9,
   "metadata": {},
   "outputs": [],
   "source": [
    "def test(dataloader, model):\n",
    "    size = len(dataloader.dataset)\n",
    "    num_batches = len(dataloader)\n",
    "\n",
    "    model.eval()\n",
    "    test_loss, correct = 0, 0\n",
    "\n",
    "    # Turn off gradients for validation, saves memory and computations (no need to compute gradients for validation)\n",
    "    with torch.no_grad():\n",
    "\n",
    "        for X, y in dataloader:\n",
    "            X, y = X.to(device), y.to(device)\n",
    "\n",
    "            # Compute prediction error\n",
    "            pred = model(X)\n",
    "            test_loss += loss_fn(pred, y).item() # sum up batch loss\n",
    "            correct += (pred.argmax(1) == y).type(torch.float).sum().item() # sum up correct predictions\n",
    "\n",
    "    # Calculate average loss and accuracy\n",
    "    test_loss /= num_batches\n",
    "    correct /= size\n",
    "\n",
    "    print(f\"Test Error: \\n Accuracy: {(100*correct):>0.1f}%, Avg loss: {test_loss:>8f} \\n\")"
   ]
  },
  {
   "cell_type": "markdown",
   "metadata": {},
   "source": [
    "## Train, Test, and Save the Model\n",
    "\n",
    "`epochs` is the number of times the model will iterate over the entire training dataset.\n",
    "In each iteration, the model learns the parameters to better map inputs to outputs.\n",
    "It is common to see the loss decrease and the accuracy increase with each epoch.\n",
    "\n",
    "> **Note**: Training can take a few minutes, depending on your hardware."
   ]
  },
  {
   "cell_type": "code",
   "execution_count": 10,
   "metadata": {},
   "outputs": [
    {
     "name": "stdout",
     "output_type": "stream",
     "text": [
      "Epoch 1\n",
      "-------------------------------\n",
      "loss: 2.304379  [    0/60000]\n",
      "loss: 2.303697  [ 6400/60000]\n",
      "loss: 2.294250  [12800/60000]\n",
      "loss: 2.294914  [19200/60000]\n",
      "loss: 2.299555  [25600/60000]\n",
      "loss: 2.298127  [32000/60000]\n",
      "loss: 2.284647  [38400/60000]\n",
      "loss: 2.284154  [44800/60000]\n",
      "loss: 2.282887  [51200/60000]\n",
      "loss: 2.275116  [57600/60000]\n",
      "Test Error: \n",
      " Accuracy: 29.2%, Avg loss: 2.281900 \n",
      "\n",
      "Epoch 2\n",
      "-------------------------------\n",
      "loss: 2.283860  [    0/60000]\n",
      "loss: 2.283749  [ 6400/60000]\n",
      "loss: 2.275879  [12800/60000]\n",
      "loss: 2.268411  [19200/60000]\n",
      "loss: 2.283331  [25600/60000]\n",
      "loss: 2.283383  [32000/60000]\n",
      "loss: 2.258339  [38400/60000]\n",
      "loss: 2.261001  [44800/60000]\n",
      "loss: 2.256265  [51200/60000]\n",
      "loss: 2.245658  [57600/60000]\n",
      "Test Error: \n",
      " Accuracy: 32.0%, Avg loss: 2.255985 \n",
      "\n",
      "Epoch 3\n",
      "-------------------------------\n",
      "loss: 2.259030  [    0/60000]\n",
      "loss: 2.258939  [ 6400/60000]\n",
      "loss: 2.251599  [12800/60000]\n",
      "loss: 2.232405  [19200/60000]\n",
      "loss: 2.260883  [25600/60000]\n",
      "loss: 2.263092  [32000/60000]\n",
      "loss: 2.220415  [38400/60000]\n",
      "loss: 2.226692  [44800/60000]\n",
      "loss: 2.217083  [51200/60000]\n",
      "loss: 2.201033  [57600/60000]\n",
      "Test Error: \n",
      " Accuracy: 32.8%, Avg loss: 2.217268 \n",
      "\n",
      "Epoch 4\n",
      "-------------------------------\n",
      "loss: 2.221024  [    0/60000]\n",
      "loss: 2.222201  [ 6400/60000]\n",
      "loss: 2.214737  [12800/60000]\n",
      "loss: 2.178121  [19200/60000]\n",
      "loss: 2.227829  [25600/60000]\n",
      "loss: 2.232346  [32000/60000]\n",
      "loss: 2.162054  [38400/60000]\n",
      "loss: 2.173328  [44800/60000]\n",
      "loss: 2.157639  [51200/60000]\n",
      "loss: 2.132218  [57600/60000]\n",
      "Test Error: \n",
      " Accuracy: 33.4%, Avg loss: 2.158815 \n",
      "\n",
      "Epoch 5\n",
      "-------------------------------\n",
      "loss: 2.163538  [    0/60000]\n",
      "loss: 2.166996  [ 6400/60000]\n",
      "loss: 2.157920  [12800/60000]\n",
      "loss: 2.099996  [19200/60000]\n",
      "loss: 2.179489  [25600/60000]\n",
      "loss: 2.187356  [32000/60000]\n",
      "loss: 2.078169  [38400/60000]\n",
      "loss: 2.096563  [44800/60000]\n",
      "loss: 2.075066  [51200/60000]\n",
      "loss: 2.037012  [57600/60000]\n",
      "Test Error: \n",
      " Accuracy: 35.0%, Avg loss: 2.079046 \n",
      "\n",
      "Done!\n"
     ]
    }
   ],
   "source": [
    "epochs = 5\n",
    "\n",
    "for t in range(epochs):\n",
    "    print(f\"Epoch {t+1}\\n-------------------------------\")\n",
    "    train(train_dataloader, model, loss_fn, optimizer)\n",
    "    test(test_dataloader, model)\n",
    "print(\"Done!\")"
   ]
  },
  {
   "cell_type": "markdown",
   "metadata": {},
   "source": [
    "### Save the model\n",
    "\n",
    "The model's state dictionary contains the learned parameters.\n",
    "\n",
    "`torch.save` is used to save the model's state dictionary to a file.\n",
    "`.pth` is the common file extension for PyTorch models."
   ]
  },
  {
   "cell_type": "code",
   "execution_count": 11,
   "metadata": {},
   "outputs": [
    {
     "name": "stdout",
     "output_type": "stream",
     "text": [
      "Saved PyTorch Model State to basic-mnist.pth\n"
     ]
    }
   ],
   "source": [
    "torch.save(model.state_dict(), \"basic-mnist.pth\")\n",
    "print(\"Saved PyTorch Model State to basic-mnist.pth\")"
   ]
  },
  {
   "cell_type": "markdown",
   "metadata": {},
   "source": [
    "### Load the model\n",
    "\n",
    "`torch.load` is used to load the model's state dictionary from a file."
   ]
  },
  {
   "cell_type": "code",
   "execution_count": 12,
   "metadata": {},
   "outputs": [
    {
     "name": "stdout",
     "output_type": "stream",
     "text": [
      "Loaded PyTorch Model State from basic-mnist.pth\n"
     ]
    }
   ],
   "source": [
    "model = NeuralNetwork()\n",
    "model.load_state_dict(torch.load(\"basic-mnist.pth\"))\n",
    "print(\"Loaded PyTorch Model State from basic-mnist.pth\")"
   ]
  },
  {
   "cell_type": "markdown",
   "metadata": {},
   "source": [
    "### Evaluate the model"
   ]
  },
  {
   "cell_type": "code",
   "execution_count": 13,
   "metadata": {},
   "outputs": [
    {
     "name": "stdout",
     "output_type": "stream",
     "text": [
      "Predicted: \"7\", Actual: \"7\"\n"
     ]
    }
   ],
   "source": [
    "classes = [\"0\", \"1\", \"2\", \"3\", \"4\", \"5\", \"6\", \"7\", \"8\", \"9\"]\n",
    "\n",
    "model.eval()\n",
    "x, y = test_data[0][0], test_data[0][1]\n",
    "\n",
    "with torch.no_grad():\n",
    "    pred = model(x)\n",
    "    predicted, actual = classes[pred[0].argmax(0)], classes[y]\n",
    "    print(f'Predicted: \"{predicted}\", Actual: \"{actual}\"')"
   ]
  },
  {
   "cell_type": "markdown",
   "metadata": {},
   "source": [
    "#### Test with a random image from the test dataset."
   ]
  },
  {
   "cell_type": "code",
   "execution_count": 16,
   "metadata": {},
   "outputs": [
    {
     "name": "stdout",
     "output_type": "stream",
     "text": [
      "Predicted: \"6\", Actual: \"5\"\n"
     ]
    },
    {
     "data": {
      "text/plain": "<Figure size 640x480 with 1 Axes>",
      "image/png": "[encoded data removed]"
     },
     "metadata": {},
     "output_type": "display_data"
    }
   ],
   "source": [
    "import random\n",
    "import matplotlib.pyplot as plt\n",
    "\n",
    "model.eval()\n",
    "rand_index = random.randint(0, len(test_data))\n",
    "x, y = test_data[rand_index][0], test_data[rand_index][1]\n",
    "\n",
    "with torch.no_grad():\n",
    "    pred = model(x)\n",
    "    predicted, actual = classes[pred[0].argmax(0)], classes[y]\n",
    "    print(f'Predicted: \"{predicted}\", Actual: \"{actual}\"')\n",
    "\n",
    "    plt.imshow(x.view(28, 28), cmap='gray')\n",
    "    plt.show()"
   ]
  }
 ],
 "metadata": {
  "kernelspec": {
   "display_name": "Python 3 (ipykernel)",
   "language": "python",
   "name": "python3"
  },
  "language_info": {
   "codemirror_mode": {
    "name": "ipython",
    "version": 3
   },
   "file_extension": ".py",
   "mimetype": "text/x-python",
   "name": "python",
   "nbconvert_exporter": "python",
   "pygments_lexer": "ipython3",
   "version": "3.10.5"
  }
 },
 "nbformat": 4,
 "nbformat_minor": 1
}
